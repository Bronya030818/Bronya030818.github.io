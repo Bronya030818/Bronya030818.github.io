{
 "cells": [
  {
   "cell_type": "code",
   "execution_count": 1,
   "metadata": {},
   "outputs": [],
   "source": [
    "from PIL import Image\n",
    "import numpy as np\n",
    "import matplotlib.pyplot as plt\n",
    "from sklearn.ensemble import RandomForestClassifier as RFC\n",
    "from sklearn.externals import joblib\n",
    "from sklearn.decomposition import PCA"
   ]
  },
  {
   "cell_type": "code",
   "execution_count": null,
   "metadata": {},
   "outputs": [],
   "source": [
    "#这个模块一共有两个函数，可以用画图软件画一张图再预测\n",
    "#在picConvert_dev是这个模块的开发版本，所以没有用函数包装"
   ]
  },
  {
   "cell_type": "code",
   "execution_count": 2,
   "metadata": {},
   "outputs": [],
   "source": [
    "def picConvert(oriName,x_s,y_s,print_detail=False): #oriName为原图片名(含后缀),x_s和y_s为转换后图片尺寸，print_detail若True则打印具体信息，默认为False\n",
    "    inputFile = oriName #oriName为字符串型，x_s和y_s为无符号整型,print_detail为布尔型\n",
    "    image = Image.open(inputFile)\n",
    "    converted_image = image.convert(\"L\")\n",
    "    (x,y) = image.size\n",
    "    out = converted_image.resize((x_s,y_s),Image.ANTIALIAS)\n",
    "    if(print_detail==True):\n",
    "        print('原始: ',x,y)\n",
    "        print('调整后: ',x_s,y_s)\n",
    "    data = out.getdata()\n",
    "    data = np.array(data)\n",
    "    fig, ax = plt.subplots(1,1,figsize=(10,2.5),subplot_kw={\"xticks\":[],\"yticks\":[]})\n",
    "    ax.imshow(data.reshape(28,28),cmap=\"binary_r\")\n",
    "    return data #返回值为包含图片大部分信息的np.array类型"
   ]
  },
  {
   "cell_type": "code",
   "execution_count": null,
   "metadata": {},
   "outputs": [],
   "source": [
    "def rfcPredict(pcaFile,rfcFile,data,print_detail=False): #pcaFile为降维使用的pca模型,rfcFile为预测时所使用的rfc模型,print_detail若True则打印具体信息，默认为False\n",
    "    pca1 = joblib.load(pcaFile) #pcaFile为.pkl文件，且必须为pca模型,rfcFile为.pkl文件，且必须为rfc模型,print_detail为布尔型\n",
    "    X_dr = pca1.transform([data])\n",
    "    if(print_detail==True):print(X_dr)\n",
    "    rfc1 = joblib.load(rfcFile)\n",
    "    prediction = rfc1.predict(X_dr)\n",
    "    return prediction #返回值为data对应的原始图片的预测值"
   ]
  }
 ],
 "metadata": {
  "kernelspec": {
   "display_name": "Python 3",
   "language": "python",
   "name": "python3"
  },
  "language_info": {
   "codemirror_mode": {
    "name": "ipython",
    "version": 3
   },
   "file_extension": ".py",
   "mimetype": "text/x-python",
   "name": "python",
   "nbconvert_exporter": "python",
   "pygments_lexer": "ipython3",
   "version": "3.7.3"
  }
 },
 "nbformat": 4,
 "nbformat_minor": 2
}
