{
 "cells": [
  {
   "cell_type": "code",
   "execution_count": 2,
   "metadata": {},
   "outputs": [],
   "source": [
    "#图片压缩尺寸,然后预测"
   ]
  },
  {
   "cell_type": "code",
   "execution_count": 57,
   "metadata": {},
   "outputs": [],
   "source": [
    "from PIL import Image\n",
    "import numpy as np\n",
    "import matplotlib.pyplot as plt"
   ]
  },
  {
   "cell_type": "code",
   "execution_count": 232,
   "metadata": {},
   "outputs": [
    {
     "name": "stdout",
     "output_type": "stream",
     "text": [
      "原始:  169 162\n",
      "调整后:  28 28\n"
     ]
    }
   ],
   "source": [
    "inputFile = 'original.jpg'\n",
    "outputFile = 'adjust.jpg'\n",
    "image = Image.open(inputFile)\n",
    "converted_image = image.convert(\"L\")\n",
    "''' 这里本来是想要用灰度，但是后来发现训练集的数据都没有考虑灰度的问题，所以这里就不搞了\n",
    "threshold = 100 #二值化的灰度分界线\n",
    "table = []\n",
    "for i in range(256):\n",
    "    if i < threshold:\n",
    "        table.append(10)\n",
    "    else:\n",
    "        table.append(100)\n",
    "'''\n",
    "(x,y) = image.size\n",
    "x_s = 28\n",
    "y_s = 28\n",
    "#out = converted_image.point(table, '1') #写入\n",
    "out = converted_image.resize((x_s,y_s),Image.ANTIALIAS)\n",
    "#out = out.resize((x_s,y_s),Image.ANTIALIAS)\n",
    "out.save(outputFile)\n",
    "\n",
    "print('原始: ',x,y)\n",
    "print('调整后: ',x_s,y_s)"
   ]
  },
  {
   "cell_type": "code",
   "execution_count": 233,
   "metadata": {},
   "outputs": [
    {
     "data": {
      "text/plain": [
       "array([[  0,   0,   0,   0,   0,   0,   0,   0,   0,   0,   0,   0,   0,\n",
       "          0,   0,   0,   0,   0,   0,   0,   0,   0,   0,   0,   0,   0,\n",
       "          0,   0],\n",
       "       [  0,   0,   0,   0,   0,   0,   0,   0,   0,   0,   0,   0,   0,\n",
       "          0,   0,   0,   0,   0,   0,   0,   0,   0,   0,   0,   0,   0,\n",
       "          0,   0],\n",
       "       [  0,   0,   0,   0,   0,   0,   0,   0,   0,   0,   0,   0,   0,\n",
       "          0,   0,   0,   0,   0,   0,   0,   0,   0,   0,   0,   0,   0,\n",
       "          0,   0],\n",
       "       [  0,   0,   0,   0,   0,   0,   0,   0,   0,   0,   0,   0,   1,\n",
       "          3,   4,   4,   4,   2,   0,   0,   0,   0,   0,   0,   0,   0,\n",
       "          0,   0],\n",
       "       [  0,   0,   0,   0,   0,   0,   0,   0,   0,   0,   0,   2,   0,\n",
       "          0,   0,   0,   0,   0,   1,   0,   0,   0,   0,   0,   0,   0,\n",
       "          0,   0],\n",
       "       [  0,   0,   0,   0,   0,   0,   0,   0,   0,   0,   2,   0,   0,\n",
       "         51,  95, 103, 100,  38,   0,   1,   0,   0,   0,   0,   0,   0,\n",
       "          0,   0],\n",
       "       [  0,   0,   0,   0,   0,   0,   0,   0,   0,   3,   0,  33, 210,\n",
       "        255, 255, 250, 255, 230,  21,   1,   1,   0,   0,   0,   0,   0,\n",
       "          0,   0],\n",
       "       [  0,   0,   0,   0,   0,   0,   0,   0,   2,   0,  44, 238, 228,\n",
       "         86,  28,  13,  33, 254, 129,   0,   4,   0,   0,   0,   0,   0,\n",
       "          0,   0],\n",
       "       [  0,   0,   0,   0,   0,   0,   0,   2,   1,  25, 230, 206,  17,\n",
       "          0,   0,   0,   0, 177, 218,   0,   1,   0,   0,   0,   0,   0,\n",
       "          0,   0],\n",
       "       [  0,   0,   0,   0,   0,   0,   0,   2,   1, 187, 233,  18,   0,\n",
       "          5,   1,   5,   2, 102, 247,   9,   0,   1,   0,   0,   0,   0,\n",
       "          0,   0],\n",
       "       [  0,   0,   0,   0,   0,   0,   3,   0,  57, 255,  73,   0,   4,\n",
       "          1,   3,   4,   0,  94, 248,  11,   0,   1,   0,   0,   0,   0,\n",
       "          0,   0],\n",
       "       [  0,   0,   0,   0,   0,   0,   4,   0, 129, 240,   2,   1,   1,\n",
       "          0,   0,   4,   0, 111, 248,   9,   0,   1,   0,   0,   0,   0,\n",
       "          0,   0],\n",
       "       [  0,   0,   0,   0,   0,   0,   4,   0, 177, 195,   1,   3,   2,\n",
       "         22,  82,   4,   0, 179, 209,   0,   2,   0,   0,   0,   0,   0,\n",
       "          0,   0],\n",
       "       [  0,   0,   0,   0,   0,   0,   4,   0, 178, 189,   3,   9,   0,\n",
       "         94, 255,  14,   0, 232, 141,   0,   4,   0,   0,   0,   0,   0,\n",
       "          0,   0],\n",
       "       [  0,   0,   0,   0,   0,   0,   4,   0, 156, 217,   0,   0,  46,\n",
       "        228, 204,   3,  15, 253,  97,   0,   4,   0,   0,   0,   0,   0,\n",
       "          0,   0],\n",
       "       [  0,   0,   0,   0,   0,   0,   4,   0,  91, 255, 194, 196, 255,\n",
       "        211,  26,   0,  47, 255,  55,   0,   2,   0,   0,   0,   0,   0,\n",
       "          0,   0],\n",
       "       [  0,   0,   0,   0,   0,   0,   1,   1,  10, 145, 188, 186, 131,\n",
       "          9,   0,   0,  54, 255,  41,   0,   2,   0,   0,   0,   0,   0,\n",
       "          0,   0],\n",
       "       [  0,   0,   0,   0,   0,   0,   0,   0,   0,   0,   0,   0,   0,\n",
       "          0,   4,   0,  50, 255,  46,   0,   2,   0,   0,   0,   0,   0,\n",
       "          0,   0],\n",
       "       [  0,   0,   0,   0,   0,   0,   0,   0,   1,   3,   3,   3,   4,\n",
       "          1,   4,   0,  97, 252,  22,   0,   1,   0,   0,   0,   0,   0,\n",
       "          0,   0],\n",
       "       [  0,   0,   0,   0,   0,   0,   0,   0,   0,   0,   0,   0,   0,\n",
       "          0,   4,   0, 169, 211,   0,   1,   0,   0,   0,   0,   0,   0,\n",
       "          0,   0],\n",
       "       [  0,   0,   0,   0,   0,   0,   0,   0,   0,   0,   0,   0,   0,\n",
       "          0,   0,   0, 227, 154,   0,   4,   0,   0,   0,   0,   0,   0,\n",
       "          0,   0],\n",
       "       [  0,   0,   0,   0,   0,   0,   0,   0,   0,   0,   0,   0,   0,\n",
       "          2,   0,  25, 255,  92,   0,   3,   0,   0,   0,   0,   0,   0,\n",
       "          0,   0],\n",
       "       [  0,   0,   0,   0,   0,   0,   0,   0,   0,   0,   0,   0,   0,\n",
       "          3,   0,  73, 254,  37,   0,   2,   0,   0,   0,   0,   0,   0,\n",
       "          0,   0],\n",
       "       [  0,   0,   0,   0,   0,   0,   0,   0,   0,   0,   0,   0,   0,\n",
       "          4,   0,  95, 246,  13,   0,   1,   0,   0,   0,   0,   0,   0,\n",
       "          0,   0],\n",
       "       [  0,   0,   0,   0,   0,   0,   0,   0,   0,   0,   0,   0,   0,\n",
       "          4,   0,  99, 255,  13,   0,   1,   0,   0,   0,   0,   0,   0,\n",
       "          0,   0],\n",
       "       [  0,   0,   0,   0,   0,   0,   0,   0,   0,   0,   0,   0,   0,\n",
       "          2,   0,  60, 181,   5,   0,   1,   0,   0,   0,   0,   0,   0,\n",
       "          0,   0],\n",
       "       [  0,   0,   0,   0,   0,   0,   0,   0,   0,   0,   0,   0,   0,\n",
       "          0,   0,   0,   0,   0,   0,   0,   0,   0,   0,   0,   0,   0,\n",
       "          0,   0],\n",
       "       [  0,   0,   0,   0,   0,   0,   0,   0,   0,   0,   0,   0,   0,\n",
       "          0,   0,   1,   2,   0,   0,   0,   0,   0,   0,   0,   0,   0,\n",
       "          0,   0]])"
      ]
     },
     "execution_count": 233,
     "metadata": {},
     "output_type": "execute_result"
    }
   ],
   "source": [
    "data = out.getdata()\n",
    "data = np.array(data)\n",
    "data.reshape(28,28)"
   ]
  },
  {
   "cell_type": "code",
   "execution_count": 180,
   "metadata": {},
   "outputs": [],
   "source": [
    "X = data.reshape(28,28)"
   ]
  },
  {
   "cell_type": "code",
   "execution_count": 83,
   "metadata": {},
   "outputs": [
    {
     "data": {
      "text/plain": [
       "(28, 28)"
      ]
     },
     "execution_count": 83,
     "metadata": {},
     "output_type": "execute_result"
    }
   ],
   "source": [
    "X.shape"
   ]
  },
  {
   "cell_type": "code",
   "execution_count": 244,
   "metadata": {},
   "outputs": [
    {
     "data": {
      "text/plain": [
       "<matplotlib.image.AxesImage at 0x161e0ae1518>"
      ]
     },
     "execution_count": 244,
     "metadata": {},
     "output_type": "execute_result"
    },
    {
     "data": {
      "image/png": "[encoded data removed]",
      "text/plain": [
       "<Figure size 720x180 with 1 Axes>"
      ]
     },
     "metadata": {},
     "output_type": "display_data"
    }
   ],
   "source": [
    "fig, ax = plt.subplots(1,1,figsize=(10,2.5),subplot_kw={\"xticks\":[],\"yticks\":[]})\n",
    "ax.imshow(data.reshape(28,28),cmap=\"binary_r\")"
   ]
  },
  {
   "cell_type": "code",
   "execution_count": 234,
   "metadata": {},
   "outputs": [
    {
     "name": "stdout",
     "output_type": "stream",
     "text": [
      "[[-217.25914875  331.54064486 -504.35013913  209.36604667   13.61715109\n",
      "   -35.38776129 -520.59154801  -12.74822267 -277.71423387  241.08383203\n",
      "  -262.02489615   15.70404689 -168.23512874   73.73274666   74.86590394\n",
      "    21.16714606   79.82079325  132.95253198 -357.32440863 -180.05516215\n",
      "    94.49899517   27.22832143   45.89335085]]\n",
      "[9]\n"
     ]
    }
   ],
   "source": [
    "#这一段的想法是用已经训练好的pca和rfc对新数据操作\n",
    "pca1 = joblib.load(\"pca1.pkl\")\n",
    "X_dr = pca1.transform([data]) #这里不需要用到fit\n",
    "print(X_dr)\n",
    "rfc1 = joblib.load(\"rfc1.pkl\") #使用保存的模型预测数字，如果还没有运行数字识别请先运行数字识别\n",
    "prediction = rfc1.predict(X_dr)\n",
    "print(prediction)"
   ]
  },
  {
   "cell_type": "code",
   "execution_count": 210,
   "metadata": {},
   "outputs": [],
   "source": [
    "from sklearn.ensemble import RandomForestClassifier as RFC\n",
    "from sklearn.externals import joblib\n",
    "from sklearn.decomposition import PCA\n",
    "import pandas as pd"
   ]
  },
  {
   "cell_type": "code",
   "execution_count": null,
   "metadata": {},
   "outputs": [],
   "source": []
  },
  {
   "cell_type": "code",
   "execution_count": null,
   "metadata": {},
   "outputs": [],
   "source": []
  }
 ],
 "metadata": {
  "kernelspec": {
   "display_name": "Python 3",
   "language": "python",
   "name": "python3"
  },
  "language_info": {
   "codemirror_mode": {
    "name": "ipython",
    "version": 3
   },
   "file_extension": ".py",
   "mimetype": "text/x-python",
   "name": "python",
   "nbconvert_exporter": "python",
   "pygments_lexer": "ipython3",
   "version": "3.7.3"
  }
 },
 "nbformat": 4,
 "nbformat_minor": 2
}
